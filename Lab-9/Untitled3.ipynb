{
 "cells": [
  {
   "cell_type": "code",
   "execution_count": 1,
   "id": "fe009ade",
   "metadata": {},
   "outputs": [
    {
     "data": {
      "image/png": "[encoded data removed]",
      "text/plain": [
       "<Figure size 432x288 with 1 Axes>"
      ]
     },
     "metadata": {
      "needs_background": "light"
     },
     "output_type": "display_data"
    }
   ],
   "source": [
    "import matplotlib.pyplot as plt \n",
    "import pandas as pd\n",
    "import numpy as np\n",
    "\n",
    "def kernel(point,xmat, k): \n",
    "    m,n = np.shape(xmat)\n",
    "    weights = np.mat(np.eye((m))) # eye - identity matrix \n",
    "    for j in range(m):\n",
    "        diff = point - X[j]\n",
    "        weights[j,j] = np.exp(diff*diff.T/(-2.0*k**2)) \n",
    "    return weights\n",
    "\n",
    "def localWeight(point,xmat,ymat,k): \n",
    "    wei = kernel(point,xmat,k)\n",
    "    W = (X.T*(wei*X)).I*(X.T*(wei*ymat.T)) \n",
    "    return W\n",
    "\n",
    "def localWeightRegression(xmat,ymat,k): \n",
    "    m,n = np.shape(xmat)\n",
    "    ypred = np.zeros(m) \n",
    "    for i in range(m):\n",
    "        ypred[i] = xmat[i]*localWeight(xmat[i],xmat,ymat,k) \n",
    "    return ypred\n",
    "\n",
    "def graphPlot(X,ypred):\n",
    "    sortindex = X[:,1].argsort(0) #argsort - index of the smallest \n",
    "    xsort = X[sortindex][:,0]\n",
    "    fig = plt.figure()\n",
    "    ax = fig.add_subplot(1,1,1) \n",
    "    ax.scatter(bill,tip, color='green')\n",
    "    ax.plot(xsort[:,1],ypred[sortindex], color = 'red', linewidth=5) \n",
    "    plt.xlabel('Total bill')\n",
    "    plt.ylabel('Tip') \n",
    "    plt.show();\n",
    "\n",
    "# load data points\n",
    "data = pd.read_csv('tips.csv')\n",
    "bill = np.array(data.total_bill) # We use only Bill amount and Tips data \n",
    "tip = np.array(data.tip)\n",
    "\n",
    "mbill = np.mat(bill) # .mat will convert nd array is converted in 2D array \n",
    "mtip = np.mat(tip)\n",
    "m= np.shape(mbill)[1] \n",
    "one = np.mat(np.ones(m))\n",
    "X = np.hstack((one.T,mbill.T)) # 244 rows, 2 cols\n",
    "ypred = localWeightRegression(X,mtip,3) \n",
    "graphPlot(X,ypred)"
   ]
  },
  {
   "cell_type": "code",
   "execution_count": null,
   "id": "efb47f50",
   "metadata": {},
   "outputs": [],
   "source": []
  }
 ],
 "metadata": {
  "kernelspec": {
   "display_name": "Python 3 (ipykernel)",
   "language": "python",
   "name": "python3"
  },
  "language_info": {
   "codemirror_mode": {
    "name": "ipython",
    "version": 3
   },
   "file_extension": ".py",
   "mimetype": "text/x-python",
   "name": "python",
   "nbconvert_exporter": "python",
   "pygments_lexer": "ipython3",
   "version": "3.10.1"
  }
 },
 "nbformat": 4,
 "nbformat_minor": 5
}
